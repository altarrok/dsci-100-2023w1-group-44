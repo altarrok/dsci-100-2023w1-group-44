{
 "cells": [
  {
   "cell_type": "markdown",
   "id": "18fb4a5c-4451-4960-8e63-88fdcacb0377",
   "metadata": {},
   "source": [
    "## Heart Attack Analysis Report: Group 44"
   ]
  },
  {
   "cell_type": "markdown",
   "id": "f6cabfc2-e4b9-4df2-8097-8bdc49bf10fd",
   "metadata": {},
   "source": [
    "### Introduction\n",
    "\n",
    "Heart disease is a prevalent and life-threatening condition that affects millions of people worldwide. Early diagnosis and risk assessment are crucial in providing timely medical intervention and reducing the morbidity and mortality associated with this condition. In our data science project, we aim to leverage a [dataset](https://archive.ics.uci.edu/ml/datasets/Heart+Disease) containing hospital data from Cleveland, Hungary, Switzerland, and VA Long Beach. However, we will specifically choose to work with the Cleveland data as it contains the most data from heart disease patients. The dataset contains 14 health-related variables, including the presence or absence of heart disease as the categorical variable. Using classification modelling, the data offers us a valuable opportunity to explore its relationship with heart disease. Hence, we propose to answer the question: Can we use medical laboratory test data available to us to predict whether a patient has heart disease?"
   ]
  },
  {
   "cell_type": "code",
   "execution_count": null,
   "id": "8007c83d-1467-4a07-88be-95a9dc55bd4f",
   "metadata": {},
   "outputs": [],
   "source": []
  }
 ],
 "metadata": {
  "kernelspec": {
   "display_name": "R",
   "language": "R",
   "name": "ir"
  },
  "language_info": {
   "codemirror_mode": "r",
   "file_extension": ".r",
   "mimetype": "text/x-r-source",
   "name": "R",
   "pygments_lexer": "r",
   "version": "4.2.2"
  }
 },
 "nbformat": 4,
 "nbformat_minor": 5
}
