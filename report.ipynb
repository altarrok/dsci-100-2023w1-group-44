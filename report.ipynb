{
 "cells": [
  {
   "cell_type": "markdown",
   "id": "18fb4a5c-4451-4960-8e63-88fdcacb0377",
   "metadata": {},
   "source": [
    "## Heart Attack Analysis Report: Group 44"
   ]
  },
  {
   "cell_type": "code",
   "execution_count": null,
   "id": "a66c8e76-ffa4-4486-add2-313c173ef2d8",
   "metadata": {},
   "outputs": [],
   "source": []
  }
 ],
 "metadata": {
  "kernelspec": {
   "display_name": "R",
   "language": "R",
   "name": "ir"
  },
  "language_info": {
   "codemirror_mode": "r",
   "file_extension": ".r",
   "mimetype": "text/x-r-source",
   "name": "R",
   "pygments_lexer": "r",
   "version": "4.2.2"
  }
 },
 "nbformat": 4,
 "nbformat_minor": 5
}
