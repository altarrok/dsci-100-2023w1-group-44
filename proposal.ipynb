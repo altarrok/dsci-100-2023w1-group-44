{
 "cells": [
  {
   "cell_type": "markdown",
   "id": "e45f7744-5c2e-4373-b0cb-dd80cac9a942",
   "metadata": {},
   "source": [
    "## Heart Attack Predictive Analysis: Group 44"
   ]
  },
  {
   "cell_type": "markdown",
   "id": "57a10fba-2325-4ec1-9f42-32ed9576e28e",
   "metadata": {
    "tags": []
   },
   "source": [
    "### Introduction\n",
    "\n",
    "Heart disease is a prevalent and life-threatening condition that affects millions of people worldwide. Early diagnosis and risk assessment are crucial in providing timely medical intervention and reducing the morbidity and mortality associated with this condition. In our data science project, we aim to leverage a [dataset](https://archive.ics.uci.edu/ml/datasets/Heart+Disease) containing hospital data from Cleveland, Hungary, Switzerland, and VA Long Beach. However, we will specifically choose to work with the Cleveland data as it contains the most data from heart disease patients. The dataset contains 14 health-related variables, including the presence or absence of heart disease as the categorical variable. Using classification modelling, the data offers us a valuable opportunity to explore its relationship with heart disease. Hence, we propose to answer the question: Can we use medical laboratory test data available to us to predict whether a patient has heart disease?\n",
    "\n"
   ]
  },
  {
   "cell_type": "markdown",
   "id": "46d3bdf9-db64-4311-a2a4-eab5237868df",
   "metadata": {},
   "source": [
    "### Preliminary exploratory data analysis\n",
    "- Demonstrate that the dataset can be read from the web into R \n",
    "- Clean and wrangle data into a tidy format\n",
    "- Using only training data, summarize the data in at least one table (this is exploratory data analysis). \n",
    "    - An example of a useful table could be one that reports the number of observations in each class, the means of the predictor variables you plan to use in your analysis and how many rows have missing data.\n",
    "        - (9 chest pain \"cp\", 10 resting blood pressure \"bp\", 12 serum cholesterol \"chol\", 16 fasting blood sugar \"fbs\", 19 resting ecg \"restecg\")\n",
    "        - no missing values in the above columns\n",
    "        - (58 diagnosis of heart disease \"num\")\n",
    "- Using only training data, visualize the data with at least one plot relevant to the analysis you plan to do (this is exploratory data analysis). \n",
    "    - An example of a useful visualization could be one that compares the distributions of each of the predictor variables you plan to use in your analysis.\n"
   ]
  },
  {
   "cell_type": "code",
   "execution_count": null,
   "id": "8fe616d5",
   "metadata": {
    "vscode": {
     "languageId": "r"
    }
   },
   "outputs": [],
   "source": [
    "library(repr)\n",
    "library(tidyverse)\n",
    "library(tidymodels)\n",
    "library(RColorBrewer)"
   ]
  },
  {
   "cell_type": "code",
   "execution_count": null,
   "id": "19c6712d",
   "metadata": {
    "vscode": {
     "languageId": "r"
    }
   },
   "outputs": [],
   "source": [
    "# creating column names for our data as it does not contain\n",
    "our_col_names <- c(\"age\", \"sex\", \"cp\", \"trestbps\", \"chol\", \"fbs\", \"restecg\", \"thalach\", \"exang\", \"oldpeak\", \"slope\", \"ca\", \"thal\", \"num\")\n",
    "\n",
    "# reading in our data and storing as an object\n",
    "heart_data <- read_csv(\"data/processed.cleveland.data\", col_names = our_col_names) |>\n",
    "    select(cp, trestbps, chol, fbs, restecg, num)\n",
    "heart_data"
   ]
  },
  {
   "cell_type": "code",
   "execution_count": null,
   "id": "4329f9f1",
   "metadata": {
    "vscode": {
     "languageId": "r"
    }
   },
   "outputs": [],
   "source": [
    "# prepare data for splitting\n",
    "split_obj <- initial_split(heart_data, prop = 0.8, strata = num)\n",
    "\n",
    "# split and extract data\n",
    "train_data <- training(split_obj)\n",
    "test_data <- testing(split_obj)\n",
    "\n",
    "\n",
    "# calculcate summary statistics\n",
    "summary_diagnosis <- train_data |>\n",
    "    group_by(num) |>\n",
    "    summarize(count = n()) |>\n",
    "    pivot_wider(names_from = num,\n",
    "                values_from = count)\n",
    "\n",
    "# summary_diagnosis\n",
    "\n",
    "summary_means <- train_data |>\n",
    "    select(trestbps, chol) |>\n",
    "    summarize_all(mean, na.rm = TRUE)\n",
    "\n",
    "# summary_means\n",
    "\n",
    "summary_table <- cbind(summary_means, summary_diagnosis) |>\n",
    "    rename(\"resting blood pressure (mean)\" = trestbps,\n",
    "          \"serum cholesterol (mean)\" = chol,\n",
    "          \"no disease\" = `0`,\n",
    "          \"level 1 disease\" = `1`,\n",
    "          \"level 2 disease\" = `2`,\n",
    "          \"level 3 disease\" = `3`,\n",
    "          \"level 4 disease\" = `4`)\n",
    "           \n",
    "summary_table"
   ]
  },
  {
   "cell_type": "code",
   "execution_count": null,
   "id": "10ff4d86",
   "metadata": {
    "vscode": {
     "languageId": "r"
    }
   },
   "outputs": [],
   "source": [
    "visulization1 <- train_data |>\n",
    "    ggplot(aes(x=trestbps,  y=chol, colour= as_factor(num))) +\n",
    "    geom_point() +\n",
    "    scale_color_discrete(labels=c(\"No Disease\", \"Level 1 disease\", \"Level 2 disease\", \"Level 3 disease\", \"Level 4 disease\")) + \n",
    "    labs(x=\"Resting Blood Pressure (mm Hg)\", y=\"Serum Cholesterol (mg/dl)\", colour = \"Heart Disease Diagnosis\")\n",
    "\n",
    "visulization1\n",
    "\n",
    "# (9 chest pain \"cp\", 10 resting blood pressure \"bp\", 12 serum cholesterol \"chol\", 16 fasting blood sugar \"fbs\", 19 resting ecg \"restecg\")\n",
    "# cp, fbs, restecg\n",
    "\n",
    "cat_cp <- train_data |>\n",
    "    ggplot(aes(x = as_factor(cp), fill = as_factor(num))) +\n",
    "    geom_bar(stat = \"count\") +\n",
    "    scale_fill_discrete(labels=c(\"No Disease\", \"Level 1 disease\", \"Level 2 disease\", \"Level 3 disease\", \"Level 4 disease\")) + \n",
    "    labs(x = \"Chest Pain\", y = \"Count\", fill = \"Heart Disease Diagnosis\")\n",
    "\n",
    "cat_cp\n",
    "\n",
    "cat_fbs <- train_data |>\n",
    "    ggplot(aes(x = as_factor(fbs), fill = as_factor(num))) +\n",
    "    geom_bar(stat = \"count\") +\n",
    "    scale_fill_discrete(labels=c(\"No Disease\", \"Level 1 disease\", \"Level 2 disease\", \"Level 3 disease\", \"Level 4 disease\")) + \n",
    "    labs(x = \"Fasting Blood Sugar > 120mg/dl\", y = \"Count\", fill = \"Heart Disease Diagnosis\")\n",
    "\n",
    "cat_fbs\n",
    "\n",
    "cat_restecg <- train_data |>\n",
    "    ggplot(aes(x = as_factor(restecg), fill = as_factor(num))) +\n",
    "    geom_bar(stat = \"count\") +\n",
    "    scale_fill_discrete(labels=c(\"No Disease\", \"Level 1 disease\", \"Level 2 disease\", \"Level 3 disease\", \"Level 4 disease\")) + \n",
    "    labs(x = \"Resting Ecocardiogram Results\", y = \"Count\", fill = \"Heart Disease Diagnosis\")\n",
    "\n",
    "cat_restecg"
   ]
  },
  {
   "cell_type": "markdown",
   "id": "f1554110-9ad1-4be3-9676-adeab69c6bb1",
   "metadata": {},
   "source": [
    "### Methods\n",
    "\n",
    "To conduct our data analysis, we will be considering the following predictor variables:  cp (chest pain type: typical angina, atypical angina, non-anginal pain, asymptomatic), trestbp (resting blood pressure), restecg (resting ECG), fbs (fasting blood sugar), and chol (serum cholesterol). Aside from chest pain type, each one of these predictor variables are results of medical laboratory tests that are commonly requested by doctors, while the chest pain type accounts for the patient's experience in consideration of the diagnosis. The response variable will be num (diagnosis of heart disease). Using these variables, we will first explore the relationships between the standardized predictor variables, with respect to the diagnosis of heart disease, by visualizing them on three scatter plots, as shown above. Once we get a sense of the relationships, we will use the K-nearest neighbors algorithm to predict the categorical class, which in this case is the diagnosis of heart disease. Before using the algorithm, we will first tune the classifier as well as consider how well the classifier performs in terms of accuracy, precision, and recall."
   ]
  },
  {
   "cell_type": "markdown",
   "id": "f1570c69-2356-4309-b985-828a5b1beffa",
   "metadata": {},
   "source": [
    "### Expected outcomes and significance\n",
    "\n",
    "We expect to find that the predictor variables we have chosen will successfully and accurately predict the diagnosis of heart disease for a patient. As mentioned earlier, these predictor variables are results from medical laboratory tests, which are objective and conducted systematically. Chest pain type, on the other hand, accounts for the subjectivity of heart disease patients. Both considerations of subjectivity and objectivity ultimately ensures a well-rounded diagnosis. These findings could potentially have significant implications for early risk assessment and timely medical intervention. By improving the accuracy of heart disease classification, our findings can help guide healthcare professionals in making informed decisions and improve patient care outcomes. Finally, our findings may inspire further extrapolation of other predictive models for heart disease diagnosis, potentially leading to more accurate and personalized risk assessments that take into account a broader range of health and lifestyle factors.   "
   ]
  },
  {
   "cell_type": "markdown",
   "id": "290294a5-d612-43cf-8459-d3e920d03764",
   "metadata": {},
   "source": [
    "## TODO: Export as .html and .ipynb when submitting"
   ]
  }
 ],
 "metadata": {
  "kernelspec": {
   "display_name": "R",
   "language": "R",
   "name": "ir"
  },
  "language_info": {
   "codemirror_mode": "r",
   "file_extension": ".r",
   "mimetype": "text/x-r-source",
   "name": "R",
   "pygments_lexer": "r",
   "version": "4.2.2"
  }
 },
 "nbformat": 4,
 "nbformat_minor": 5
}
