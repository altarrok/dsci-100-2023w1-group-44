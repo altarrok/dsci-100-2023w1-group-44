{
 "cells": [
  {
   "cell_type": "markdown",
   "id": "e45f7744-5c2e-4373-b0cb-dd80cac9a942",
   "metadata": {},
   "source": [
    "## Heart Attack Predictive Analysis: Group 44"
   ]
  },
  {
   "cell_type": "markdown",
   "id": "57a10fba-2325-4ec1-9f42-32ed9576e28e",
   "metadata": {
    "tags": []
   },
   "source": [
    "### Introduction\n",
    "\n",
    "Heart disease is a prevalent and life-threatening condition that affects millions of people worldwide. Early diagnosis and risk assessment are crucial in providing timely medical intervention and reducing the morbidity and mortality associated with this condition. In our data science project, we aim to leverage a dataset containing hospital data from Cleveland, Hungary, Switzerland, and VA Long Beach. However, we will specifically choose to work with the Cleveland data as it contains the most data from heart disease patients. The dataset contains 14 health-related variables, including the presence or absence of heart disease as the categorical variable. Using classification modelling, the data offers us a valuable opportunity to explore its relationship with heart disease. Hence, we propose to answer the question: Can we use medical laboratory test data available to us to predict whether a patient has heart disease?\n",
    "- Identify and describe the [dataset](https://archive.ics.uci.edu/ml/datasets/Heart+Disease)\n"
   ]
  },
  {
   "cell_type": "markdown",
   "id": "46d3bdf9-db64-4311-a2a4-eab5237868df",
   "metadata": {},
   "source": [
    "### Preliminary exploratory data analysis\n",
    "- Demonstrate that the dataset can be read from the web into R \n",
    "- Clean and wrangle data into a tidy format\n",
    "- Using only training data, summarize the data in at least one table (this is exploratory data analysis). \n",
    "    - An example of a useful table could be one that reports the number of observations in each class, the means of the predictor variables you plan to use in your analysis and how many rows have missing data.\n",
    "        - (9 chest pain \"cp\", 10 resting blood pressure \"bp\", 12 serum cholesterol \"chol\", 16 fasting blood sugar \"fbs\", 19 resting ecg \"restecg\")\n",
    "        - no missing values in the above columns\n",
    "        - (58 diagnosis of heart disease \"num\")\n",
    "- Using only training data, visualize the data with at least one plot relevant to the analysis you plan to do (this is exploratory data analysis). \n",
    "    - An example of a useful visualization could be one that compares the distributions of each of the predictor variables you plan to use in your analysis.\n"
   ]
  },
  {
   "cell_type": "markdown",
   "id": "f1554110-9ad1-4be3-9676-adeab69c6bb1",
   "metadata": {},
   "source": [
    "### Methods\n",
    "- Explain how you will conduct either your data analysis and which variables/columns you will use."
   ]
  },
  {
   "cell_type": "markdown",
   "id": "f1570c69-2356-4309-b985-828a5b1beffa",
   "metadata": {},
   "source": [
    "### Expected outcomes and significance\n",
    "- What do you expect to find?\n",
    "- What impact could such findings have?\n",
    "- What future questions could this lead to?"
   ]
  },
  {
   "cell_type": "markdown",
   "id": "290294a5-d612-43cf-8459-d3e920d03764",
   "metadata": {},
   "source": [
    "## TODO: Export as .html and .ipynb when submitting"
   ]
  }
 ],
 "metadata": {
  "kernelspec": {
   "display_name": "R",
   "language": "R",
   "name": "ir"
  },
  "language_info": {
   "codemirror_mode": "r",
   "file_extension": ".r",
   "mimetype": "text/x-r-source",
   "name": "R",
   "pygments_lexer": "r",
   "version": "4.2.2"
  }
 },
 "nbformat": 4,
 "nbformat_minor": 5
}
